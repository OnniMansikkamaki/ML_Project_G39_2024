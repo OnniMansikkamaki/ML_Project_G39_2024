{
 "cells": [
  {
   "cell_type": "code",
   "execution_count": 22,
   "id": "c5f9b299-961d-497e-b232-9afe2170abf2",
   "metadata": {},
   "outputs": [
    {
     "name": "stdout",
     "output_type": "stream",
     "text": [
      "Collecting summarytools\n",
      "  Downloading summarytools-0.3.0-py3-none-any.whl.metadata (3.5 kB)\n",
      "Requirement already satisfied: pandas>=1.4.0 in c:\\users\\emirk\\anaconda3\\lib\\site-packages (from summarytools) (2.2.2)\n",
      "Requirement already satisfied: ipython>=7.20.0 in c:\\users\\emirk\\anaconda3\\lib\\site-packages (from summarytools) (8.25.0)\n",
      "Requirement already satisfied: numpy>=1.18.5 in c:\\users\\emirk\\anaconda3\\lib\\site-packages (from summarytools) (1.26.4)\n",
      "Requirement already satisfied: matplotlib>=3.3.0 in c:\\users\\emirk\\anaconda3\\lib\\site-packages (from summarytools) (3.8.4)\n",
      "Requirement already satisfied: decorator in c:\\users\\emirk\\anaconda3\\lib\\site-packages (from ipython>=7.20.0->summarytools) (5.1.1)\n",
      "Requirement already satisfied: jedi>=0.16 in c:\\users\\emirk\\anaconda3\\lib\\site-packages (from ipython>=7.20.0->summarytools) (0.18.1)\n",
      "Requirement already satisfied: matplotlib-inline in c:\\users\\emirk\\anaconda3\\lib\\site-packages (from ipython>=7.20.0->summarytools) (0.1.6)\n",
      "Requirement already satisfied: prompt-toolkit<3.1.0,>=3.0.41 in c:\\users\\emirk\\anaconda3\\lib\\site-packages (from ipython>=7.20.0->summarytools) (3.0.43)\n",
      "Requirement already satisfied: pygments>=2.4.0 in c:\\users\\emirk\\anaconda3\\lib\\site-packages (from ipython>=7.20.0->summarytools) (2.15.1)\n",
      "Requirement already satisfied: stack-data in c:\\users\\emirk\\anaconda3\\lib\\site-packages (from ipython>=7.20.0->summarytools) (0.2.0)\n",
      "Requirement already satisfied: traitlets>=5.13.0 in c:\\users\\emirk\\anaconda3\\lib\\site-packages (from ipython>=7.20.0->summarytools) (5.14.3)\n",
      "Requirement already satisfied: colorama in c:\\users\\emirk\\anaconda3\\lib\\site-packages (from ipython>=7.20.0->summarytools) (0.4.6)\n",
      "Requirement already satisfied: contourpy>=1.0.1 in c:\\users\\emirk\\anaconda3\\lib\\site-packages (from matplotlib>=3.3.0->summarytools) (1.2.0)\n",
      "Requirement already satisfied: cycler>=0.10 in c:\\users\\emirk\\anaconda3\\lib\\site-packages (from matplotlib>=3.3.0->summarytools) (0.11.0)\n",
      "Requirement already satisfied: fonttools>=4.22.0 in c:\\users\\emirk\\anaconda3\\lib\\site-packages (from matplotlib>=3.3.0->summarytools) (4.51.0)\n",
      "Requirement already satisfied: kiwisolver>=1.3.1 in c:\\users\\emirk\\anaconda3\\lib\\site-packages (from matplotlib>=3.3.0->summarytools) (1.4.4)\n",
      "Requirement already satisfied: packaging>=20.0 in c:\\users\\emirk\\anaconda3\\lib\\site-packages (from matplotlib>=3.3.0->summarytools) (23.2)\n",
      "Requirement already satisfied: pillow>=8 in c:\\users\\emirk\\anaconda3\\lib\\site-packages (from matplotlib>=3.3.0->summarytools) (10.3.0)\n",
      "Requirement already satisfied: pyparsing>=2.3.1 in c:\\users\\emirk\\anaconda3\\lib\\site-packages (from matplotlib>=3.3.0->summarytools) (3.0.9)\n",
      "Requirement already satisfied: python-dateutil>=2.7 in c:\\users\\emirk\\anaconda3\\lib\\site-packages (from matplotlib>=3.3.0->summarytools) (2.9.0.post0)\n",
      "Requirement already satisfied: pytz>=2020.1 in c:\\users\\emirk\\anaconda3\\lib\\site-packages (from pandas>=1.4.0->summarytools) (2024.1)\n",
      "Requirement already satisfied: tzdata>=2022.7 in c:\\users\\emirk\\anaconda3\\lib\\site-packages (from pandas>=1.4.0->summarytools) (2023.3)\n",
      "Requirement already satisfied: parso<0.9.0,>=0.8.0 in c:\\users\\emirk\\anaconda3\\lib\\site-packages (from jedi>=0.16->ipython>=7.20.0->summarytools) (0.8.3)\n",
      "Requirement already satisfied: wcwidth in c:\\users\\emirk\\anaconda3\\lib\\site-packages (from prompt-toolkit<3.1.0,>=3.0.41->ipython>=7.20.0->summarytools) (0.2.5)\n",
      "Requirement already satisfied: six>=1.5 in c:\\users\\emirk\\anaconda3\\lib\\site-packages (from python-dateutil>=2.7->matplotlib>=3.3.0->summarytools) (1.16.0)\n",
      "Requirement already satisfied: executing in c:\\users\\emirk\\anaconda3\\lib\\site-packages (from stack-data->ipython>=7.20.0->summarytools) (0.8.3)\n",
      "Requirement already satisfied: asttokens in c:\\users\\emirk\\anaconda3\\lib\\site-packages (from stack-data->ipython>=7.20.0->summarytools) (2.0.5)\n",
      "Requirement already satisfied: pure-eval in c:\\users\\emirk\\anaconda3\\lib\\site-packages (from stack-data->ipython>=7.20.0->summarytools) (0.2.2)\n",
      "Downloading summarytools-0.3.0-py3-none-any.whl (12 kB)\n",
      "Installing collected packages: summarytools\n",
      "Successfully installed summarytools-0.3.0\n",
      "Note: you may need to restart the kernel to use updated packages.\n"
     ]
    }
   ],
   "source": [
    "## 0.Importing Libraries\n",
    "\n",
    "%pip install summarytools\n",
    "\n",
    "import os\n",
    "import pandas as pd\n",
    "import matplotlib.pyplot as plt\n",
    "from summarytools import dfSummary"
   ]
  },
  {
   "cell_type": "code",
   "execution_count": 23,
   "id": "bd1702a4-f204-4f03-9b62-93e94808bab0",
   "metadata": {},
   "outputs": [],
   "source": [
    "os.getcwd()\n",
    "os.chdir(r'C:\\Users\\emirk\\Desktop\\ML Project\\Data')"
   ]
  },
  {
   "cell_type": "code",
   "execution_count": 24,
   "id": "4c72ad50-7692-46a5-9ae6-9e911db2001e",
   "metadata": {},
   "outputs": [
    {
     "name": "stderr",
     "output_type": "stream",
     "text": [
      "C:\\Users\\emirk\\AppData\\Local\\Temp\\ipykernel_4328\\1576569587.py:2: DtypeWarning: Columns (29) have mixed types. Specify dtype option on import or set low_memory=False.\n",
      "  train_data = pd.read_csv('train_data.csv')\n"
     ]
    }
   ],
   "source": [
    "## 1.Importing Data\n",
    "train_data = pd.read_csv('train_data.csv')\n",
    "test_data = pd.read_csv('test_data.csv')"
   ]
  },
  {
   "cell_type": "code",
   "execution_count": 25,
   "id": "94d38f50-bed4-4c59-b948-a7aab0d86eb7",
   "metadata": {},
   "outputs": [
    {
     "name": "stdout",
     "output_type": "stream",
     "text": [
      "Zip Code\n",
      "['13662' '14569' '12589' ... 'G9B0Y' '15143' '07122']\n"
     ]
    }
   ],
   "source": [
    "## 2. Datatypes and Corrections\n",
    "\n",
    "# 2.1 DtypeWarning: Columns (29) have mixed types. Specify dtype option on import or set low_memory=False.\n",
    "# Checking column 29 values for mixed types\n",
    "print(train_data.columns[29])\n",
    "print(train_data['Zip Code'].unique())\n",
    "\n",
    "# Because it is ZipCode we will treat the values as string.\n",
    "train_data['Zip Code'] = train_data['Zip Code'].astype(str)\n",
    "test_data['Zip Code'] = test_data['Zip Code'].astype(str)"
   ]
  },
  {
   "cell_type": "code",
   "execution_count": 26,
   "id": "d2f5225d-813b-447f-93d0-2f4e2ead6ccd",
   "metadata": {},
   "outputs": [
    {
     "name": "stdout",
     "output_type": "stream",
     "text": [
      "<class 'pandas.core.frame.DataFrame'>\n",
      "RangeIndex: 593471 entries, 0 to 593470\n",
      "Data columns (total 33 columns):\n",
      " #   Column                              Non-Null Count   Dtype  \n",
      "---  ------                              --------------   -----  \n",
      " 0   Accident Date                       570337 non-null  object \n",
      " 1   Age at Injury                       574026 non-null  float64\n",
      " 2   Alternative Dispute Resolution      574026 non-null  object \n",
      " 3   Assembly Date                       593471 non-null  object \n",
      " 4   Attorney/Representative             574026 non-null  object \n",
      " 5   Average Weekly Wage                 545375 non-null  float64\n",
      " 6   Birth Year                          544948 non-null  float64\n",
      " 7   C-2 Date                            559466 non-null  object \n",
      " 8   C-3 Date                            187245 non-null  object \n",
      " 9   Carrier Name                        574026 non-null  object \n",
      " 10  Carrier Type                        574026 non-null  object \n",
      " 11  Claim Identifier                    593471 non-null  int64  \n",
      " 12  Claim Injury Type                   574026 non-null  object \n",
      " 13  County of Injury                    574026 non-null  object \n",
      " 14  COVID-19 Indicator                  574026 non-null  object \n",
      " 15  District Name                       574026 non-null  object \n",
      " 16  First Hearing Date                  150798 non-null  object \n",
      " 17  Gender                              574026 non-null  object \n",
      " 18  IME-4 Count                         132803 non-null  float64\n",
      " 19  Industry Code                       564068 non-null  float64\n",
      " 20  Industry Code Description           564068 non-null  object \n",
      " 21  Medical Fee Region                  574026 non-null  object \n",
      " 22  OIICS Nature of Injury Description  0 non-null       float64\n",
      " 23  WCIO Cause of Injury Code           558386 non-null  float64\n",
      " 24  WCIO Cause of Injury Description    558386 non-null  object \n",
      " 25  WCIO Nature of Injury Code          558369 non-null  float64\n",
      " 26  WCIO Nature of Injury Description   558369 non-null  object \n",
      " 27  WCIO Part Of Body Code              556944 non-null  float64\n",
      " 28  WCIO Part Of Body Description       556944 non-null  object \n",
      " 29  Zip Code                            593471 non-null  object \n",
      " 30  Agreement Reached                   574026 non-null  float64\n",
      " 31  WCB Decision                        574026 non-null  object \n",
      " 32  Number of Dependents                574026 non-null  float64\n",
      "dtypes: float64(11), int64(1), object(21)\n",
      "memory usage: 149.4+ MB\n"
     ]
    }
   ],
   "source": [
    "# 2.2 Checking Datatypes\n",
    "train_data.info()"
   ]
  },
  {
   "cell_type": "code",
   "execution_count": 27,
   "id": "2609e4aa-21e8-4455-8897-0463ca7f4455",
   "metadata": {},
   "outputs": [],
   "source": [
    "# 2.3 Dates\n",
    "train_data = train_data.set_index('Claim Identifier', drop=True)\n",
    "train_data ['Accident Date'] = pd.to_datetime(train_data ['Accident Date'])\n",
    "train_data ['Assembly Date'] = pd.to_datetime(train_data ['Assembly Date'])\n",
    "train_data ['C-2 Date'] = pd.to_datetime(train_data ['C-2 Date'])\n",
    "train_data ['C-3 Date'] = pd.to_datetime(train_data ['C-3 Date'])\n",
    "train_data ['First Hearing Date'] = pd.to_datetime(train_data ['First Hearing Date'])"
   ]
  },
  {
   "cell_type": "code",
   "execution_count": 28,
   "id": "408c8388-74c7-4a58-a817-55feb12469ca",
   "metadata": {},
   "outputs": [
    {
     "data": {
      "text/html": [
       "<div>\n",
       "<style scoped>\n",
       "    .dataframe tbody tr th:only-of-type {\n",
       "        vertical-align: middle;\n",
       "    }\n",
       "\n",
       "    .dataframe tbody tr th {\n",
       "        vertical-align: top;\n",
       "    }\n",
       "\n",
       "    .dataframe thead th {\n",
       "        text-align: right;\n",
       "    }\n",
       "</style>\n",
       "<table border=\"1\" class=\"dataframe\">\n",
       "  <thead>\n",
       "    <tr style=\"text-align: right;\">\n",
       "      <th></th>\n",
       "      <th>Alternative Dispute Resolution</th>\n",
       "      <th>Attorney/Representative</th>\n",
       "      <th>Carrier Name</th>\n",
       "      <th>Carrier Type</th>\n",
       "      <th>Claim Injury Type</th>\n",
       "      <th>County of Injury</th>\n",
       "      <th>COVID-19 Indicator</th>\n",
       "      <th>District Name</th>\n",
       "      <th>Gender</th>\n",
       "      <th>Industry Code Description</th>\n",
       "      <th>Medical Fee Region</th>\n",
       "      <th>WCIO Cause of Injury Description</th>\n",
       "      <th>WCIO Nature of Injury Description</th>\n",
       "      <th>WCIO Part Of Body Description</th>\n",
       "      <th>Zip Code</th>\n",
       "      <th>WCB Decision</th>\n",
       "    </tr>\n",
       "  </thead>\n",
       "  <tbody>\n",
       "    <tr>\n",
       "      <th>count</th>\n",
       "      <td>574026</td>\n",
       "      <td>574026</td>\n",
       "      <td>574026</td>\n",
       "      <td>574026</td>\n",
       "      <td>574026</td>\n",
       "      <td>574026</td>\n",
       "      <td>574026</td>\n",
       "      <td>574026</td>\n",
       "      <td>574026</td>\n",
       "      <td>564068</td>\n",
       "      <td>574026</td>\n",
       "      <td>558386</td>\n",
       "      <td>558369</td>\n",
       "      <td>556944</td>\n",
       "      <td>593471</td>\n",
       "      <td>574026</td>\n",
       "    </tr>\n",
       "    <tr>\n",
       "      <th>unique</th>\n",
       "      <td>3</td>\n",
       "      <td>2</td>\n",
       "      <td>2046</td>\n",
       "      <td>8</td>\n",
       "      <td>8</td>\n",
       "      <td>63</td>\n",
       "      <td>2</td>\n",
       "      <td>8</td>\n",
       "      <td>4</td>\n",
       "      <td>20</td>\n",
       "      <td>5</td>\n",
       "      <td>74</td>\n",
       "      <td>56</td>\n",
       "      <td>54</td>\n",
       "      <td>10061</td>\n",
       "      <td>1</td>\n",
       "    </tr>\n",
       "    <tr>\n",
       "      <th>top</th>\n",
       "      <td>N</td>\n",
       "      <td>N</td>\n",
       "      <td>STATE INSURANCE FUND</td>\n",
       "      <td>1A. PRIVATE</td>\n",
       "      <td>2. NON-COMP</td>\n",
       "      <td>SUFFOLK</td>\n",
       "      <td>N</td>\n",
       "      <td>NYC</td>\n",
       "      <td>M</td>\n",
       "      <td>HEALTH CARE AND SOCIAL ASSISTANCE</td>\n",
       "      <td>IV</td>\n",
       "      <td>LIFTING</td>\n",
       "      <td>STRAIN OR TEAR</td>\n",
       "      <td>LOWER BACK AREA</td>\n",
       "      <td>nan</td>\n",
       "      <td>Not Work Related</td>\n",
       "    </tr>\n",
       "    <tr>\n",
       "      <th>freq</th>\n",
       "      <td>571412</td>\n",
       "      <td>392291</td>\n",
       "      <td>111144</td>\n",
       "      <td>285368</td>\n",
       "      <td>291078</td>\n",
       "      <td>60430</td>\n",
       "      <td>546505</td>\n",
       "      <td>270779</td>\n",
       "      <td>335218</td>\n",
       "      <td>114339</td>\n",
       "      <td>265981</td>\n",
       "      <td>46610</td>\n",
       "      <td>153373</td>\n",
       "      <td>51862</td>\n",
       "      <td>48082</td>\n",
       "      <td>574026</td>\n",
       "    </tr>\n",
       "  </tbody>\n",
       "</table>\n",
       "</div>"
      ],
      "text/plain": [
       "       Alternative Dispute Resolution Attorney/Representative  \\\n",
       "count                          574026                  574026   \n",
       "unique                              3                       2   \n",
       "top                                 N                       N   \n",
       "freq                           571412                  392291   \n",
       "\n",
       "                Carrier Name Carrier Type Claim Injury Type County of Injury  \\\n",
       "count                 574026       574026            574026           574026   \n",
       "unique                  2046            8                 8               63   \n",
       "top     STATE INSURANCE FUND  1A. PRIVATE       2. NON-COMP          SUFFOLK   \n",
       "freq                  111144       285368            291078            60430   \n",
       "\n",
       "       COVID-19 Indicator District Name  Gender  \\\n",
       "count              574026        574026  574026   \n",
       "unique                  2             8       4   \n",
       "top                     N           NYC       M   \n",
       "freq               546505        270779  335218   \n",
       "\n",
       "                Industry Code Description Medical Fee Region  \\\n",
       "count                              564068             574026   \n",
       "unique                                 20                  5   \n",
       "top     HEALTH CARE AND SOCIAL ASSISTANCE                 IV   \n",
       "freq                               114339             265981   \n",
       "\n",
       "       WCIO Cause of Injury Description WCIO Nature of Injury Description  \\\n",
       "count                            558386                            558369   \n",
       "unique                               74                                56   \n",
       "top                             LIFTING                    STRAIN OR TEAR   \n",
       "freq                              46610                            153373   \n",
       "\n",
       "       WCIO Part Of Body Description Zip Code      WCB Decision  \n",
       "count                         556944   593471            574026  \n",
       "unique                            54    10061                 1  \n",
       "top                  LOWER BACK AREA      nan  Not Work Related  \n",
       "freq                           51862    48082            574026  "
      ]
     },
     "execution_count": 28,
     "metadata": {},
     "output_type": "execute_result"
    }
   ],
   "source": [
    "# 2.4 Booleans\n",
    "train_data.describe()\n",
    "train_data.describe(include='object')"
   ]
  },
  {
   "cell_type": "code",
   "execution_count": 29,
   "id": "245330bd-90aa-44d4-b01c-5352baf7aa0e",
   "metadata": {},
   "outputs": [],
   "source": [
    "# 2.4 Booleans\n",
    "# Attorney/Representative\n",
    "train_data['Attorney/Representative'] = train_data['Attorney/Representative'].map({'Y': True, 'N': False}).astype(bool)\n",
    "\n",
    "# COVID-19 Indicator\n",
    "train_data['COVID-19 Indicator'] = train_data['COVID-19 Indicator'].map({'Y': True, 'N': False}).astype(bool)\n",
    "\n",
    "# Agreement Reached\n",
    "train_data['Agreement Reached'] = train_data['Agreement Reached'].astype(float)\n",
    "train_data['Agreement Reached'] = train_data['Agreement Reached'].map({1: True, 0: False}).astype(bool)"
   ]
  },
  {
   "cell_type": "code",
   "execution_count": 30,
   "id": "1f32f0a4-2573-4d84-858c-c00af7580100",
   "metadata": {},
   "outputs": [],
   "source": [
    "# 2.4 Booleans\n",
    "# Alternative Dispute Resolution\n",
    "train_data = train_data[train_data['Alternative Dispute Resolution'] != \"U\"]\n",
    "train_data['Alternative Dispute Resolution'] = train_data['Alternative Dispute Resolution'].map({'Y': True, 'N': False}).astype(bool)"
   ]
  },
  {
   "cell_type": "code",
   "execution_count": 31,
   "id": "bf7f96ba-3851-4dde-8fec-e1426a19f6fa",
   "metadata": {},
   "outputs": [
    {
     "name": "stdout",
     "output_type": "stream",
     "text": [
      "<class 'pandas.core.frame.DataFrame'>\n",
      "Index: 593466 entries, 5393875 to 818961390\n",
      "Data columns (total 32 columns):\n",
      " #   Column                              Non-Null Count   Dtype         \n",
      "---  ------                              --------------   -----         \n",
      " 0   Accident Date                       570332 non-null  datetime64[ns]\n",
      " 1   Age at Injury                       574021 non-null  float64       \n",
      " 2   Alternative Dispute Resolution      593466 non-null  bool          \n",
      " 3   Assembly Date                       593466 non-null  datetime64[ns]\n",
      " 4   Attorney/Representative             593466 non-null  bool          \n",
      " 5   Average Weekly Wage                 545371 non-null  float64       \n",
      " 6   Birth Year                          544943 non-null  float64       \n",
      " 7   C-2 Date                            559466 non-null  datetime64[ns]\n",
      " 8   C-3 Date                            187244 non-null  datetime64[ns]\n",
      " 9   Carrier Name                        574021 non-null  object        \n",
      " 10  Carrier Type                        574021 non-null  object        \n",
      " 11  Claim Injury Type                   574021 non-null  object        \n",
      " 12  County of Injury                    574021 non-null  object        \n",
      " 13  COVID-19 Indicator                  593466 non-null  bool          \n",
      " 14  District Name                       574021 non-null  object        \n",
      " 15  First Hearing Date                  150798 non-null  datetime64[ns]\n",
      " 16  Gender                              574021 non-null  object        \n",
      " 17  IME-4 Count                         132802 non-null  float64       \n",
      " 18  Industry Code                       564067 non-null  float64       \n",
      " 19  Industry Code Description           564067 non-null  object        \n",
      " 20  Medical Fee Region                  574021 non-null  object        \n",
      " 21  OIICS Nature of Injury Description  0 non-null       float64       \n",
      " 22  WCIO Cause of Injury Code           558386 non-null  float64       \n",
      " 23  WCIO Cause of Injury Description    558386 non-null  object        \n",
      " 24  WCIO Nature of Injury Code          558369 non-null  float64       \n",
      " 25  WCIO Nature of Injury Description   558369 non-null  object        \n",
      " 26  WCIO Part Of Body Code              556944 non-null  float64       \n",
      " 27  WCIO Part Of Body Description       556944 non-null  object        \n",
      " 28  Zip Code                            593466 non-null  object        \n",
      " 29  Agreement Reached                   593466 non-null  bool          \n",
      " 30  WCB Decision                        574021 non-null  object        \n",
      " 31  Number of Dependents                574021 non-null  float64       \n",
      "dtypes: bool(4), datetime64[ns](5), float64(10), object(13)\n",
      "memory usage: 133.6+ MB\n"
     ]
    }
   ],
   "source": [
    "# 2.5 Checking Datatypes after Changes\n",
    "train_data.info()"
   ]
  },
  {
   "cell_type": "code",
   "execution_count": 32,
   "id": "720fdeaf-9517-4318-98f8-efbc5e12205b",
   "metadata": {},
   "outputs": [
    {
     "name": "stdout",
     "output_type": "stream",
     "text": [
      "Accident Date                          23134\n",
      "Age at Injury                          19445\n",
      "Alternative Dispute Resolution             0\n",
      "Assembly Date                              0\n",
      "Attorney/Representative                    0\n",
      "Average Weekly Wage                    48095\n",
      "Birth Year                             48523\n",
      "C-2 Date                               34000\n",
      "C-3 Date                              406222\n",
      "Carrier Name                           19445\n",
      "Carrier Type                           19445\n",
      "Claim Injury Type                      19445\n",
      "County of Injury                       19445\n",
      "COVID-19 Indicator                         0\n",
      "District Name                          19445\n",
      "First Hearing Date                    442668\n",
      "Gender                                 19445\n",
      "IME-4 Count                           460664\n",
      "Industry Code                          29399\n",
      "Industry Code Description              29399\n",
      "Medical Fee Region                     19445\n",
      "OIICS Nature of Injury Description    593466\n",
      "WCIO Cause of Injury Code              35080\n",
      "WCIO Cause of Injury Description       35080\n",
      "WCIO Nature of Injury Code             35097\n",
      "WCIO Nature of Injury Description      35097\n",
      "WCIO Part Of Body Code                 36522\n",
      "WCIO Part Of Body Description          36522\n",
      "Zip Code                                   0\n",
      "Agreement Reached                          0\n",
      "WCB Decision                           19445\n",
      "Number of Dependents                   19445\n",
      "dtype: int64\n"
     ]
    }
   ],
   "source": [
    "## 3.Checking for Missing Value\n",
    "# 3.1. Checking for Missing Value Counts\n",
    "print(train_data.isnull().sum())"
   ]
  },
  {
   "cell_type": "code",
   "execution_count": 33,
   "id": "a2b20711-4ccc-413d-b2a1-edaa073f36c7",
   "metadata": {},
   "outputs": [],
   "source": [
    "# 3.2. Checking Percentages of Missing Values\n",
    "# Percentage of missing values for Columns\n",
    "missing_percentage_train = (train_data.isnull().sum() / len(train_data)) * 100"
   ]
  },
  {
   "cell_type": "code",
   "execution_count": 34,
   "id": "9d7de7ef-390c-4b74-927c-2779e16955b4",
   "metadata": {},
   "outputs": [
    {
     "name": "stdout",
     "output_type": "stream",
     "text": [
      "Missing Percentage Train Data:\n",
      " OIICS Nature of Injury Description    100.000000\n",
      "IME-4 Count                            77.622644\n",
      "First Hearing Date                     74.590288\n",
      "C-3 Date                               68.449077\n",
      "Birth Year                              8.176206\n",
      "Average Weekly Wage                     8.104087\n",
      "WCIO Part Of Body Description           6.154017\n",
      "WCIO Part Of Body Code                  6.154017\n",
      "WCIO Nature of Injury Description       5.913902\n",
      "WCIO Nature of Injury Code              5.913902\n",
      "WCIO Cause of Injury Description        5.911038\n",
      "WCIO Cause of Injury Code               5.911038\n",
      "C-2 Date                                5.729056\n",
      "Industry Code Description               4.953780\n",
      "Industry Code                           4.953780\n",
      "Accident Date                           3.898117\n",
      "Medical Fee Region                      3.276515\n",
      "Age at Injury                           3.276515\n",
      "Gender                                  3.276515\n",
      "District Name                           3.276515\n",
      "County of Injury                        3.276515\n",
      "Claim Injury Type                       3.276515\n",
      "Carrier Type                            3.276515\n",
      "Carrier Name                            3.276515\n",
      "WCB Decision                            3.276515\n",
      "Number of Dependents                    3.276515\n",
      "dtype: float64\n"
     ]
    }
   ],
   "source": [
    "# 3.3. Dropping or Filling Missing Values\n",
    "# Only missing value columns, sorted descending\n",
    "missing_percentage_train_filtered = missing_percentage_train[missing_percentage_train > 0].sort_values(ascending=False)\n",
    "print(\"Missing Percentage Train Data:\\n\", missing_percentage_train_filtered)"
   ]
  },
  {
   "cell_type": "code",
   "execution_count": 35,
   "id": "f3f2cf20-b45f-4668-9c3a-018b8bdeff3c",
   "metadata": {},
   "outputs": [],
   "source": [
    "# Because of %100 missing values we dropped OIICS Nature of Injury Description\n",
    "train_data.drop(columns=['OIICS Nature of Injury Description'], inplace=True)\n",
    "\n",
    "# We fill na with 0 because we assume that there was 0 submission made.\n",
    "train_data['IME-4 Count'] = train_data['IME-4 Count'].fillna(0)\n",
    "\n",
    "# As mentioned in data desciption \"A blank date means the claim has not yet had ahearing held.\" so we filled with none.\n",
    "train_data['First Hearing Date'] = train_data['First Hearing Date'].fillna('None')\n",
    "\n",
    "# We also treated these dates like First Hearing Date.\n",
    "train_data['C-3 Date'] = train_data['C-3 Date'].fillna('None')\n",
    "train_data['C-2 Date'] = train_data['C-2 Date'].fillna('None')"
   ]
  },
  {
   "cell_type": "code",
   "execution_count": 36,
   "id": "bd89d7f6-bf83-45c5-8e23-dd36a5971217",
   "metadata": {},
   "outputs": [
    {
     "name": "stdout",
     "output_type": "stream",
     "text": [
      "Birth Year                           8.176206\n",
      "Average Weekly Wage                  8.104087\n",
      "WCIO Part Of Body Description        6.154017\n",
      "WCIO Part Of Body Code               6.154017\n",
      "WCIO Nature of Injury Description    5.913902\n",
      "WCIO Nature of Injury Code           5.913902\n",
      "WCIO Cause of Injury Description     5.911038\n",
      "WCIO Cause of Injury Code            5.911038\n",
      "Industry Code                        4.953780\n",
      "Industry Code Description            4.953780\n",
      "Accident Date                        3.898117\n",
      "Age at Injury                        3.276515\n",
      "Medical Fee Region                   3.276515\n",
      "Gender                               3.276515\n",
      "District Name                        3.276515\n",
      "County of Injury                     3.276515\n",
      "Claim Injury Type                    3.276515\n",
      "Carrier Type                         3.276515\n",
      "Carrier Name                         3.276515\n",
      "WCB Decision                         3.276515\n",
      "Number of Dependents                 3.276515\n",
      "dtype: float64\n"
     ]
    }
   ],
   "source": [
    "# 3.4 Checking the percentages after changes\n",
    "# Percentage of missing values for Columns\n",
    "new_missing_percentage_train = (train_data.isnull().sum() / len(train_data)) * 100\n",
    "\n",
    "# Only missing value columns, sorted descending\n",
    "new_missing_percentage_train_filtered = new_missing_percentage_train[new_missing_percentage_train > 0].sort_values(ascending=False)\n",
    "\n",
    "# Missing Percentage Train Data\n",
    "print(new_missing_percentage_train_filtered)"
   ]
  },
  {
   "cell_type": "code",
   "execution_count": 39,
   "id": "b2476004-2ab6-4ee6-b3f8-5be00cc9261c",
   "metadata": {},
   "outputs": [
    {
     "name": "stdout",
     "output_type": "stream",
     "text": [
      "Accident Date                        23134\n",
      "Age at Injury                        19445\n",
      "Alternative Dispute Resolution           0\n",
      "Assembly Date                            0\n",
      "Attorney/Representative                  0\n",
      "Average Weekly Wage                  48095\n",
      "Birth Year                           48523\n",
      "C-2 Date                                 0\n",
      "C-3 Date                                 0\n",
      "Carrier Name                         19445\n",
      "Carrier Type                         19445\n",
      "Claim Injury Type                    19445\n",
      "County of Injury                     19445\n",
      "COVID-19 Indicator                       0\n",
      "District Name                        19445\n",
      "First Hearing Date                       0\n",
      "Gender                               19445\n",
      "IME-4 Count                              0\n",
      "Industry Code                        29399\n",
      "Industry Code Description            29399\n",
      "Medical Fee Region                   19445\n",
      "WCIO Cause of Injury Code            35080\n",
      "WCIO Cause of Injury Description     35080\n",
      "WCIO Nature of Injury Code           35097\n",
      "WCIO Nature of Injury Description    35097\n",
      "WCIO Part Of Body Code               36522\n",
      "WCIO Part Of Body Description        36522\n",
      "Zip Code                                 0\n",
      "Agreement Reached                        0\n",
      "WCB Decision                         19445\n",
      "Number of Dependents                 19445\n",
      "dtype: int64\n"
     ]
    }
   ],
   "source": [
    "# 3.5\n",
    "print(train_data.isnull().sum())"
   ]
  },
  {
   "cell_type": "code",
   "execution_count": 38,
   "id": "dc65f159-b31c-470b-bb46-2142649238ba",
   "metadata": {},
   "outputs": [],
   "source": [
    "## 4. Check for Outlier\n",
    "# 4.1. Check for Outliers (Percentile Method)\n",
    "\n"
   ]
  },
  {
   "cell_type": "code",
   "execution_count": null,
   "id": "98e537a8-cfd2-465f-8413-e45276700425",
   "metadata": {},
   "outputs": [],
   "source": [
    "# 4.2. Visualize Outliers\n"
   ]
  },
  {
   "cell_type": "code",
   "execution_count": null,
   "id": "a017e22f-4f48-46b9-9207-4840b5c0f871",
   "metadata": {},
   "outputs": [],
   "source": [
    "# 4.3. Treat the Outliers\n"
   ]
  },
  {
   "cell_type": "code",
   "execution_count": null,
   "id": "41c96f76-cce4-4e00-bb10-12ad24e568de",
   "metadata": {},
   "outputs": [],
   "source": [
    "# 5. Deal with Categorical Values\n"
   ]
  }
 ],
 "metadata": {
  "kernelspec": {
   "display_name": "ML",
   "language": "python",
   "name": "python3"
  },
  "language_info": {
   "codemirror_mode": {
    "name": "ipython",
    "version": 3
   },
   "file_extension": ".py",
   "mimetype": "text/x-python",
   "name": "python",
   "nbconvert_exporter": "python",
   "pygments_lexer": "ipython3",
   "version": "3.12.4"
  }
 },
 "nbformat": 4,
 "nbformat_minor": 5
}
